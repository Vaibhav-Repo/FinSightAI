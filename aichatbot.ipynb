{
 "cells": [
  {
   "cell_type": "code",
   "execution_count": 1,
   "id": "99c701b1",
   "metadata": {},
   "outputs": [],
   "source": [
    "from uuid import uuid4\n",
    "from langchain_community.document_loaders import PyPDFLoader\n",
    "from langchain_text_splitters import RecursiveCharacterTextSplitter\n",
    "from langchain_huggingface import HuggingFaceEmbeddings\n",
    "from langchain_community.vectorstores import FAISS\n",
    "import faiss"
   ]
  },
  {
   "cell_type": "code",
   "execution_count": null,
   "id": "33be9ecb",
   "metadata": {},
   "outputs": [],
   "source": [
    "%pip install faiss-cpu #importing faiss"
   ]
  },
  {
   "cell_type": "code",
   "execution_count": 3,
   "id": "8f9de9a3",
   "metadata": {},
   "outputs": [],
   "source": [
    "# 1. Load your PDF\n",
    "loader = PyPDFLoader(\"tcsreport.pdf\")\n",
    "raw_documents = loader.load()"
   ]
  },
  {
   "cell_type": "code",
   "execution_count": 4,
   "id": "5b8973d1",
   "metadata": {},
   "outputs": [],
   "source": [
    "# 2. Split into chunks\n",
    "text_splitter = RecursiveCharacterTextSplitter(\n",
    "    chunk_size=2500,\n",
    "    chunk_overlap=50,\n",
    ")"
   ]
  },
  {
   "cell_type": "code",
   "execution_count": 5,
   "id": "7ed4e468",
   "metadata": {},
   "outputs": [],
   "source": [
    "\n",
    "chunks = text_splitter.split_documents(raw_documents) #using text splitter to split the raw doc into chunks"
   ]
  },
  {
   "cell_type": "code",
   "execution_count": 6,
   "id": "c7898532",
   "metadata": {},
   "outputs": [],
   "source": [
    "# 3. Generate unique IDs for each chunk\n",
    "uuids = [str(uuid4()) for _ in range(len(chunks))]"
   ]
  },
  {
   "cell_type": "code",
   "execution_count": 7,
   "id": "693913f9",
   "metadata": {},
   "outputs": [],
   "source": [
    "# 4. Create embedding model using the updated (non-deprecated) wrapper\n",
    "embedding = HuggingFaceEmbeddings(model_name=\"sentence-transformers/all-MiniLM-L6-v2\")"
   ]
  },
  {
   "cell_type": "code",
   "execution_count": null,
   "id": "3efab382",
   "metadata": {},
   "outputs": [],
   "source": [
    "# 5. Create FAISS vector store (index is handled internally)\n",
    "vector_store = FAISS.from_documents(\n",
    "    documents=chunks,\n",
    "    embedding=embedding,\n",
    "    ids=uuids\n",
    ")\n",
    "\n",
    "print(\"Vector store created successfully with\", len(chunks), \"documents.\")"
   ]
  },
  {
   "cell_type": "code",
   "execution_count": null,
   "id": "1edf44dd",
   "metadata": {},
   "outputs": [],
   "source": [
    "query = \"What are the key financial highlights mentioned in the report?\"\n",
    "docs = vector_store.similarity_search(query, k=3)\n",
    "\n",
    "for i, doc in enumerate(docs):\n",
    "    print(f\"\\n--- Document {i+1} ---\")\n",
    "    print(doc.page_content)"
   ]
  },
  {
   "cell_type": "code",
   "execution_count": null,
   "id": "89d89106",
   "metadata": {},
   "outputs": [],
   "source": [
    "query = \"What are the key financial highlights mentioned in the report?\"\n",
    "context = vector_store.similarity_search(query, k=1)\n",
    "\n",
    "\n",
    "actual_context = context[0].page_content\n",
    "print(actual_context)"
   ]
  },
  {
   "cell_type": "code",
   "execution_count": 11,
   "id": "2bf3f0c2",
   "metadata": {},
   "outputs": [],
   "source": [
    "our_question = \"What are the key financial highlights mentioned in the report?\"\n",
    "\n",
    "our_prompt = f\"\"\"\n",
    "I am asking a question. Please answer only from the given context.\n",
    "Do not guess or make up an answer if it's not found in the context.\n",
    "\n",
    "Context:\n",
    "{actual_context}\n",
    "\n",
    "Question:\n",
    "{our_question}\n",
    "\"\"\""
   ]
  },
  {
   "cell_type": "code",
   "execution_count": null,
   "id": "b5d137a0",
   "metadata": {},
   "outputs": [],
   "source": [
    "import os\n",
    "os.environ[\"OPENAI_API_KEY\"] = \"\"#Enter your OPENAI SECRET KEY"
   ]
  },
  {
   "cell_type": "code",
   "execution_count": 13,
   "id": "4aecc681",
   "metadata": {},
   "outputs": [
    {
     "name": "stdout",
     "output_type": "stream",
     "text": [
      "The report highlights the following key financial figures:\n",
      "\n",
      "- Profit for the year: `48,797 crore` for 2025 and `46,099 crore` for 2024.\n",
      "- Operating profit before working capital changes: `67,853 crore` for 2025 and `63,709 crore` for 2024.\n",
      "- Cash flows generated from operations: `64,494 crore` for 2025 and `56,827 crore` for 2024.\n",
      "- Net cash flows generated from operating activities: `48,908 crore` for 2025 and `44,338 crore` for 2024.\n"
     ]
    }
   ],
   "source": [
    "from openai import OpenAI\n",
    "client = OpenAI()\n",
    "\n",
    "response = client.responses.create(\n",
    "    model=\"gpt-4o-mini\",\n",
    "    input= our_prompt\n",
    ")\n",
    "\n",
    "print(response.output_text)"
   ]
  }
 ],
 "metadata": {
  "kernelspec": {
   "display_name": "Python 3",
   "language": "python",
   "name": "python3"
  },
  "language_info": {
   "codemirror_mode": {
    "name": "ipython",
    "version": 3
   },
   "file_extension": ".py",
   "mimetype": "text/x-python",
   "name": "python",
   "nbconvert_exporter": "python",
   "pygments_lexer": "ipython3",
   "version": "3.11.9"
  }
 },
 "nbformat": 4,
 "nbformat_minor": 5
}
